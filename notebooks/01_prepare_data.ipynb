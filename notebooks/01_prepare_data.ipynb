{
 "cells": [
  {
   "cell_type": "code",
   "execution_count": 1,
   "metadata": {},
   "outputs": [],
   "source": [
    "import json\n",
    "import io\n",
    "from pathlib import Path\n",
    "\n",
    "import pandas as pd"
   ]
  },
  {
   "cell_type": "code",
   "execution_count": 2,
   "metadata": {},
   "outputs": [],
   "source": [
    "data_path = Path('./data/verdd_lexemes.json')"
   ]
  },
  {
   "cell_type": "code",
   "execution_count": 3,
   "metadata": {},
   "outputs": [],
   "source": [
    "with io.open(data_path, 'r', encoding='utf-8') as f:\n",
    "    all_data = json.load(f)"
   ]
  },
  {
   "cell_type": "code",
   "execution_count": 4,
   "metadata": {},
   "outputs": [],
   "source": [
    "language = \"sms\""
   ]
  },
  {
   "cell_type": "code",
   "execution_count": 5,
   "metadata": {},
   "outputs": [],
   "source": [
    "lang_lexemes = [_data for _data in all_data if _data[\"model\"] == \"manageXML.lexeme\" and _data[\"fields\"][\"language\"] == language]"
   ]
  },
  {
   "cell_type": "code",
   "execution_count": 6,
   "metadata": {},
   "outputs": [
    {
     "data": {
      "text/plain": [
       "28984"
      ]
     },
     "execution_count": 6,
     "metadata": {},
     "output_type": "execute_result"
    }
   ],
   "source": [
    "len(lang_lexemes)"
   ]
  },
  {
   "cell_type": "code",
   "execution_count": 7,
   "metadata": {},
   "outputs": [],
   "source": [
    "lexeme_data = {lexeme[\"pk\"]: lexeme for lexeme in lang_lexemes}"
   ]
  },
  {
   "cell_type": "code",
   "execution_count": 8,
   "metadata": {},
   "outputs": [],
   "source": [
    "for _data in all_data:\n",
    "    if _data[\"model\"] == \"manageXML.stem\":\n",
    "        _lexeme_id = _data[\"fields\"][\"lexeme\"]\n",
    "        if _lexeme_id not in lexeme_data:\n",
    "            continue\n",
    "        if \"stems\" not in lexeme_data[_lexeme_id][\"fields\"]:\n",
    "            lexeme_data[_lexeme_id][\"fields\"][\"stems\"] = []\n",
    "        lexeme_data[_lexeme_id][\"fields\"][\"stems\"].append(_data[\"fields\"])"
   ]
  },
  {
   "cell_type": "code",
   "execution_count": 9,
   "metadata": {},
   "outputs": [],
   "source": [
    "data = []\n",
    "for lexeme_id, lexeme in lexeme_data.items():\n",
    "    lexeme_fields = lexeme[\"fields\"]\n",
    "    lexeme_name = lexeme_fields.get(\"lexeme\", \"\")\n",
    "    \n",
    "    if not lexeme_name:\n",
    "        continue\n",
    "    \n",
    "    pos = lexeme_fields.get(\"pos\", \"\")\n",
    "    stems = lexeme_fields.get(\"stems\", [])\n",
    "    \n",
    "    for stem in stems:\n",
    "        data.append({\n",
    "            \"lexeme\": lexeme_name,\n",
    "            \"language\": language,\n",
    "            \"pos\": pos,\n",
    "            \"stem_text\": stem[\"text\"],\n",
    "            \"contlex\": stem[\"contlex\"],\n",
    "        })\n",
    "\n",
    "df = pd.DataFrame(data)\n",
    "\n",
    "output_path = Path('./data/lexeme_stems.csv')\n",
    "df.to_csv(output_path, index=False)"
   ]
  },
  {
   "cell_type": "code",
   "execution_count": null,
   "metadata": {},
   "outputs": [],
   "source": []
  }
 ],
 "metadata": {
  "kernelspec": {
   "display_name": ".venv",
   "language": "python",
   "name": "python3"
  },
  "language_info": {
   "codemirror_mode": {
    "name": "ipython",
    "version": 3
   },
   "file_extension": ".py",
   "mimetype": "text/x-python",
   "name": "python",
   "nbconvert_exporter": "python",
   "pygments_lexer": "ipython3",
   "version": "3.12.6"
  }
 },
 "nbformat": 4,
 "nbformat_minor": 2
}
